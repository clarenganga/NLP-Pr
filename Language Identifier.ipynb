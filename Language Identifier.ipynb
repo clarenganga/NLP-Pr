{
 "cells": [
  {
   "cell_type": "code",
   "execution_count": 6,
   "id": "d984326f",
   "metadata": {},
   "outputs": [
    {
     "data": {
      "text/html": [
       "<div>\n",
       "<style scoped>\n",
       "    .dataframe tbody tr th:only-of-type {\n",
       "        vertical-align: middle;\n",
       "    }\n",
       "\n",
       "    .dataframe tbody tr th {\n",
       "        vertical-align: top;\n",
       "    }\n",
       "\n",
       "    .dataframe thead th {\n",
       "        text-align: right;\n",
       "    }\n",
       "</style>\n",
       "<table border=\"1\" class=\"dataframe\">\n",
       "  <thead>\n",
       "    <tr style=\"text-align: right;\">\n",
       "      <th></th>\n",
       "      <th>Text</th>\n",
       "      <th>language</th>\n",
       "    </tr>\n",
       "  </thead>\n",
       "  <tbody>\n",
       "    <tr>\n",
       "      <th>0</th>\n",
       "      <td>klement gottwaldi surnukeha palsameeriti ning ...</td>\n",
       "      <td>Estonian</td>\n",
       "    </tr>\n",
       "    <tr>\n",
       "      <th>1</th>\n",
       "      <td>sebes joseph pereira thomas  pÃ¥ eng the jesui...</td>\n",
       "      <td>Swedish</td>\n",
       "    </tr>\n",
       "    <tr>\n",
       "      <th>2</th>\n",
       "      <td>à¸à¸à¸à¹à¸à¸£à¸´à¸à¸à¸£à¸¸à¸ à¸­à¸±à¸...</td>\n",
       "      <td>Thai</td>\n",
       "    </tr>\n",
       "    <tr>\n",
       "      <th>3</th>\n",
       "      <td>à®µà®¿à®à®¾à®à®ªà¯à®ªà®à¯à®à®¿à®©à®®à¯ ...</td>\n",
       "      <td>Tamil</td>\n",
       "    </tr>\n",
       "    <tr>\n",
       "      <th>4</th>\n",
       "      <td>de spons behoort tot het geslacht haliclona en...</td>\n",
       "      <td>Dutch</td>\n",
       "    </tr>\n",
       "    <tr>\n",
       "      <th>5</th>\n",
       "      <td>ã¨ããè¡ããããã§ãã¹ã«ä¹ã£ã¦ã...</td>\n",
       "      <td>Japanese</td>\n",
       "    </tr>\n",
       "    <tr>\n",
       "      <th>6</th>\n",
       "      <td>tsutinalar iÌngilizce tsuutina kanadada alber...</td>\n",
       "      <td>Turkish</td>\n",
       "    </tr>\n",
       "    <tr>\n",
       "      <th>7</th>\n",
       "      <td>mÃ¼ller mox figura centralis circulorum doctor...</td>\n",
       "      <td>Latin</td>\n",
       "    </tr>\n",
       "    <tr>\n",
       "      <th>8</th>\n",
       "      <td>Ø¨Ø±ÙÛ Ø¨Ø§Ø± electric charge ØªÙ",
       "Ø§Ù",
       " Ø²ÛØ...</td>\n",
       "      <td>Urdu</td>\n",
       "    </tr>\n",
       "    <tr>\n",
       "      <th>9</th>\n",
       "      <td>ã·ã£ã¼ãªã¼ã»ãã£ã¼ã«ãã¯ããµã³ã...</td>\n",
       "      <td>Japanese</td>\n",
       "    </tr>\n",
       "  </tbody>\n",
       "</table>\n",
       "</div>"
      ],
      "text/plain": [
       "                                                Text  language\n",
       "0  klement gottwaldi surnukeha palsameeriti ning ...  Estonian\n",
       "1  sebes joseph pereira thomas  pÃ¥ eng the jesui...   Swedish\n",
       "2  à¸à¸à¸à¹à¸à¸£à¸´à¸à¸à¸£à¸¸à¸ à¸­à¸±à¸...      Thai\n",
       "3  à®µà®¿à®à®¾à®à®ªà¯à®ªà®à¯à®à®¿à®©à®®à¯ ...     Tamil\n",
       "4  de spons behoort tot het geslacht haliclona en...     Dutch\n",
       "5  ã¨ããè¡ããããã§ãã¹ã«ä¹ã£ã¦ã...  Japanese\n",
       "6  tsutinalar iÌngilizce tsuutina kanadada alber...   Turkish\n",
       "7  mÃ¼ller mox figura centralis circulorum doctor...     Latin\n",
       "8  Ø¨Ø±ÙÛ Ø¨Ø§Ø± electric charge ØªÙ\n",
       "Ø§Ù\n",
       " Ø²ÛØ...      Urdu\n",
       "9  ã·ã£ã¼ãªã¼ã»ãã£ã¼ã«ãã¯ããµã³ã...  Japanese"
      ]
     },
     "execution_count": 6,
     "metadata": {},
     "output_type": "execute_result"
    }
   ],
   "source": [
    "import pandas as pd\n",
    "import numpy as np\n",
    "\n",
    "data = pd.read_csv(\"ln_dataset.csv\", encoding=\"latin-1\")\n",
    "data.head(10)"
   ]
  },
  {
   "cell_type": "code",
   "execution_count": 7,
   "id": "95cad95a",
   "metadata": {},
   "outputs": [
    {
     "data": {
      "text/plain": [
       "MultinomialNB()"
      ]
     },
     "execution_count": 7,
     "metadata": {},
     "output_type": "execute_result"
    }
   ],
   "source": [
    "from sklearn.feature_extraction.text import CountVectorizer\n",
    "from sklearn.model_selection import train_test_split\n",
    "from sklearn.naive_bayes import MultinomialNB\n",
    "from sklearn.metrics import classification_report\n",
    "\n",
    "# split dataset into training and testing sets\n",
    "X_train, X_test, y_train, y_test = train_test_split(data['Text'], data['language'], test_size=0.2, random_state=42)\n",
    "\n",
    "# create vectorizer with n-grams\n",
    "vectorizer = CountVectorizer(ngram_range=(1,3))\n",
    "\n",
    "# fit and transform the vectorizer on the training set\n",
    "X_train_vectorized = vectorizer.fit_transform(X_train)\n",
    "\n",
    "# train the classification model\n",
    "model = MultinomialNB()\n",
    "model.fit(X_train_vectorized, y_train)"
   ]
  },
  {
   "cell_type": "code",
   "execution_count": 8,
   "id": "342b83d5",
   "metadata": {},
   "outputs": [
    {
     "name": "stdout",
     "output_type": "stream",
     "text": [
      "              precision    recall  f1-score   support\n",
      "\n",
      "      Arabic       0.85      0.97      0.90       179\n",
      "     Chinese       0.92      0.98      0.95       192\n",
      "       Dutch       1.00      1.00      1.00       223\n",
      "     English       0.76      1.00      0.87       195\n",
      "    Estonian       1.00      0.97      0.98       191\n",
      "      French       0.97      0.98      0.98       173\n",
      "       Hindi       1.00      0.97      0.99       215\n",
      "  Indonesian       1.00      0.96      0.98       200\n",
      "    Japanese       1.00      0.91      0.95       191\n",
      "      Korean       1.00      1.00      1.00       204\n",
      "       Latin       1.00      0.92      0.96       219\n",
      "     Persian       0.97      0.97      0.97       208\n",
      "   Portugese       0.99      0.97      0.98       201\n",
      "      Pushto       0.97      0.94      0.95       197\n",
      "    Romanian       0.99      0.98      0.98       189\n",
      "     Russian       1.00      1.00      1.00       200\n",
      "     Spanish       0.99      0.99      0.99       197\n",
      "     Swahili       1.00      1.00      1.00         2\n",
      "     Swedish       0.99      1.00      1.00       204\n",
      "       Tamil       0.98      0.99      0.99       198\n",
      "        Thai       1.00      0.99      1.00       220\n",
      "     Turkish       1.00      0.99      0.99       217\n",
      "        Urdu       0.99      0.83      0.90       187\n",
      "\n",
      "    accuracy                           0.97      4402\n",
      "   macro avg       0.97      0.97      0.97      4402\n",
      "weighted avg       0.97      0.97      0.97      4402\n",
      "\n"
     ]
    }
   ],
   "source": [
    "# evaluate the model on the testing set\n",
    "X_test_vectorized = vectorizer.transform(X_test)\n",
    "y_pred = model.predict(X_test_vectorized)\n",
    "print(classification_report(y_test, y_pred))\n",
    "\n"
   ]
  },
  {
   "cell_type": "code",
   "execution_count": 9,
   "id": "08f826df",
   "metadata": {},
   "outputs": [
    {
     "name": "stderr",
     "output_type": "stream",
     "text": [
      "C:\\Users\\User\\AppData\\Roaming\\Python\\Python39\\site-packages\\gradio\\inputs.py:27: UserWarning: Usage of gradio.inputs is deprecated, and will not be supported in the future, please import your component from gradio.components\n",
      "  warnings.warn(\n",
      "C:\\Users\\User\\AppData\\Roaming\\Python\\Python39\\site-packages\\gradio\\deprecation.py:40: UserWarning: `optional` parameter is deprecated, and it has no effect\n",
      "  warnings.warn(value)\n",
      "C:\\Users\\User\\AppData\\Roaming\\Python\\Python39\\site-packages\\gradio\\deprecation.py:40: UserWarning: `numeric` parameter is deprecated, and it has no effect\n",
      "  warnings.warn(value)\n",
      "C:\\Users\\User\\AppData\\Roaming\\Python\\Python39\\site-packages\\gradio\\outputs.py:22: UserWarning: Usage of gradio.outputs is deprecated, and will not be supported in the future, please import your components from gradio.components\n",
      "  warnings.warn(\n"
     ]
    }
   ],
   "source": [
    "import gradio as gr\n",
    "\n",
    "# modify the predict_language() function to accept a text input, and return the predicted language label\n",
    "def predict_language(text):\n",
    "    detected_language = detect_language(text)\n",
    "    text_vectorized = vectorizer.transform([text])\n",
    "    language = model.predict(text_vectorized)[0]\n",
    "    return f\"{language} ({detected_language})\"\n",
    "\n",
    "# modify the Gradio interface to accept a text input and display the predicted language label\n",
    "iface = gr.Interface(\n",
    "    fn=predict_language,\n",
    "    inputs=gr.inputs.Textbox(lines=5, label=\"Input Text\"),\n",
    "    outputs=gr.outputs.Textbox(label=\"Language Prediction\"),\n",
    "    title=\"Language Identifier\",\n",
    "    description=\"Predict the language of a given text.\"\n",
    ")"
   ]
  },
  {
   "cell_type": "code",
   "execution_count": 10,
   "id": "b5bb847c",
   "metadata": {},
   "outputs": [
    {
     "name": "stdout",
     "output_type": "stream",
     "text": [
      "Running on local URL:  http://127.0.0.1:7860\n",
      "\n",
      "To create a public link, set `share=True` in `launch()`.\n"
     ]
    },
    {
     "data": {
      "text/html": [
       "<div><iframe src=\"http://127.0.0.1:7860/\" width=\"100%\" height=\"500\" allow=\"autoplay; camera; microphone; clipboard-read; clipboard-write;\" frameborder=\"0\" allowfullscreen></iframe></div>"
      ],
      "text/plain": [
       "<IPython.core.display.HTML object>"
      ]
     },
     "metadata": {},
     "output_type": "display_data"
    },
    {
     "data": {
      "text/plain": []
     },
     "execution_count": 10,
     "metadata": {},
     "output_type": "execute_result"
    }
   ],
   "source": [
    "iface.launch()"
   ]
  },
  {
   "cell_type": "code",
   "execution_count": null,
   "id": "50d21489",
   "metadata": {},
   "outputs": [],
   "source": []
  }
 ],
 "metadata": {
  "kernelspec": {
   "display_name": "Python 3 (ipykernel)",
   "language": "python",
   "name": "python3"
  },
  "language_info": {
   "codemirror_mode": {
    "name": "ipython",
    "version": 3
   },
   "file_extension": ".py",
   "mimetype": "text/x-python",
   "name": "python",
   "nbconvert_exporter": "python",
   "pygments_lexer": "ipython3",
   "version": "3.9.13"
  }
 },
 "nbformat": 4,
 "nbformat_minor": 5
}
