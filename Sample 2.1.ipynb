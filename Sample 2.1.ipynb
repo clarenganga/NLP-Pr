{
 "cells": [
  {
   "cell_type": "code",
   "execution_count": 3,
   "id": "f77ddcf8",
   "metadata": {},
   "outputs": [
    {
     "data": {
      "text/html": [
       "<div>\n",
       "<style scoped>\n",
       "    .dataframe tbody tr th:only-of-type {\n",
       "        vertical-align: middle;\n",
       "    }\n",
       "\n",
       "    .dataframe tbody tr th {\n",
       "        vertical-align: top;\n",
       "    }\n",
       "\n",
       "    .dataframe thead th {\n",
       "        text-align: right;\n",
       "    }\n",
       "</style>\n",
       "<table border=\"1\" class=\"dataframe\">\n",
       "  <thead>\n",
       "    <tr style=\"text-align: right;\">\n",
       "      <th></th>\n",
       "      <th>maneno</th>\n",
       "      <th>translated_column</th>\n",
       "    </tr>\n",
       "  </thead>\n",
       "  <tbody>\n",
       "    <tr>\n",
       "      <th>0</th>\n",
       "      <td>BUNGE limehakikishiwa kuwa hakuna changamoto ...</td>\n",
       "      <td>Parliament has been assured that there is no c...</td>\n",
       "    </tr>\n",
       "    <tr>\n",
       "      <th>1</th>\n",
       "      <td>Twiga ilicheza mechi ya kirafiki na Kenya kwe...</td>\n",
       "      <td>Twiga played a friendly match with Kenya at Am...</td>\n",
       "    </tr>\n",
       "    <tr>\n",
       "      <th>2</th>\n",
       "      <td>['Miaka mitano iliyopita Harry Maguire alikuwa...</td>\n",
       "      <td>['Five years ago Harry Maguire was playing in ...</td>\n",
       "    </tr>\n",
       "    <tr>\n",
       "      <th>3</th>\n",
       "      <td>Bethsheba Wambura, Dar es Salaam Msanii wa Bon...</td>\n",
       "      <td>Bethsheba Wambura, Dar es Salaam Bongo artist ...</td>\n",
       "    </tr>\n",
       "    <tr>\n",
       "      <th>4</th>\n",
       "      <td>WALIOKUWA wamiliki wa Hoteli ya Musoma mkoani...</td>\n",
       "      <td>THE FORMER owners of the Musoma Hotel in Mara ...</td>\n",
       "    </tr>\n",
       "  </tbody>\n",
       "</table>\n",
       "</div>"
      ],
      "text/plain": [
       "                                              maneno  \\\n",
       "0   BUNGE limehakikishiwa kuwa hakuna changamoto ...   \n",
       "1   Twiga ilicheza mechi ya kirafiki na Kenya kwe...   \n",
       "2  ['Miaka mitano iliyopita Harry Maguire alikuwa...   \n",
       "3  Bethsheba Wambura, Dar es Salaam Msanii wa Bon...   \n",
       "4   WALIOKUWA wamiliki wa Hoteli ya Musoma mkoani...   \n",
       "\n",
       "                                   translated_column  \n",
       "0  Parliament has been assured that there is no c...  \n",
       "1  Twiga played a friendly match with Kenya at Am...  \n",
       "2  ['Five years ago Harry Maguire was playing in ...  \n",
       "3  Bethsheba Wambura, Dar es Salaam Bongo artist ...  \n",
       "4  THE FORMER owners of the Musoma Hotel in Mara ...  "
      ]
     },
     "execution_count": 3,
     "metadata": {},
     "output_type": "execute_result"
    }
   ],
   "source": [
    "import pandas as pd\n",
    "import numpy as np\n",
    "from sklearn.feature_extraction.text import CountVectorizer\n",
    "from sklearn.naive_bayes import MultinomialNB\n",
    "from sklearn.svm import SVC\n",
    "from sklearn.linear_model import LogisticRegression\n",
    "from sklearn.model_selection import train_test_split\n",
    "from sklearn.metrics import accuracy_score, precision_score, recall_score, f1_score\n",
    "\n",
    "# Load the dataset\n",
    "df = pd.read_csv('translated_file.csv')\n",
    "df.head()"
   ]
  },
  {
   "cell_type": "code",
   "execution_count": 5,
   "id": "9d44e262",
   "metadata": {
    "scrolled": true
   },
   "outputs": [
    {
     "name": "stdout",
     "output_type": "stream",
     "text": [
      "Accuracy: 1.0\n",
      "Precision: 1.0\n",
      "Recall: 1.0\n",
      "F1 Score: 1.0\n",
      "Prediction: ['A person suspected of having the Corona virus has been placed under special care at the Kenyatta National Hospital (KNH) in Nairobi immediately after arriving at the Jomo Kenyatta International Airport (JKIA). Statement by Kenya Airways (KQ) ) has stated that the passenger has arrived in Nairobi today, January 28, coming from Guangzhou in China, where the virus spread to a large extent. it shows that the passenger was allowed by the health authorities in Guanzhou to return to Kenya but when he arrived he showed symptoms similar to the disease. KQ has said that it took precautionary measures by isolating the passenger during the entire journey. So far, more than 100 people have been reported to have died due to the virus in China, while it is spreading to various parts of the world.']\n"
     ]
    }
   ],
   "source": [
    "import pandas as pd\n",
    "from sklearn.feature_extraction.text import CountVectorizer\n",
    "from sklearn.naive_bayes import MultinomialNB\n",
    "from sklearn.svm import SVC\n",
    "from sklearn.linear_model import LogisticRegression\n",
    "from sklearn.metrics import accuracy_score, precision_score, recall_score, f1_score\n",
    "\n",
    "# Load the data\n",
    "data = pd.read_csv(\"translated_file1.csv\")\n",
    "\n",
    "# Convert the text into numerical features\n",
    "vectorizer = CountVectorizer()\n",
    "X = vectorizer.fit_transform(data[\"text\"])\n",
    "\n",
    "# Train the model\n",
    "model = MultinomialNB()\n",
    "# model = SVC()\n",
    "# model = LogisticRegression()\n",
    "model.fit(X, data[\"translated_column\"])\n",
    "\n",
    "# Evaluate the model\n",
    "y_pred = model.predict(X)\n",
    "accuracy = accuracy_score(data[\"translated_column\"], y_pred)\n",
    "precision = precision_score(data[\"translated_column\"], y_pred, average='weighted')\n",
    "recall = recall_score(data[\"translated_column\"], y_pred, average='weighted')\n",
    "f1 = f1_score(data[\"translated_column\"], y_pred, average='weighted')\n",
    "\n",
    "print(\"Accuracy:\", accuracy)\n",
    "print(\"Precision:\", precision)\n",
    "print(\"Recall:\", recall)\n",
    "print(\"F1 Score:\", f1)\n",
    "\n",
    "# Test the model\n",
    "text = \"This is a test sentence.\"\n",
    "text_features = vectorizer.transform([text])\n",
    "prediction = model.predict(text_features)\n",
    "print(\"Prediction:\", prediction)\n"
   ]
  },
  {
   "cell_type": "code",
   "execution_count": null,
   "id": "507b10fa",
   "metadata": {},
   "outputs": [],
   "source": []
  }
 ],
 "metadata": {
  "kernelspec": {
   "display_name": "Python 3 (ipykernel)",
   "language": "python",
   "name": "python3"
  },
  "language_info": {
   "codemirror_mode": {
    "name": "ipython",
    "version": 3
   },
   "file_extension": ".py",
   "mimetype": "text/x-python",
   "name": "python",
   "nbconvert_exporter": "python",
   "pygments_lexer": "ipython3",
   "version": "3.9.13"
  }
 },
 "nbformat": 4,
 "nbformat_minor": 5
}
